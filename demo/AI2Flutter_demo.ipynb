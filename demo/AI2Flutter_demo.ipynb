{
 "cells": [
  {
   "cell_type": "markdown",
   "id": "62dd6393",
   "metadata": {},
   "source": [
    "## 1.导入依赖以及网络结构"
   ]
  },
  {
   "cell_type": "code",
   "execution_count": 114,
   "id": "41ec386e",
   "metadata": {
    "vscode": {
     "languageId": "python"
    }
   },
   "outputs": [],
   "source": [
    "# 加载网络结构\n",
    "%run AI2Flutter.py"
   ]
  },
  {
   "cell_type": "markdown",
   "id": "e843ce40",
   "metadata": {},
   "source": [
    "## 2.实例化网络，并设置模型输入形状"
   ]
  },
  {
   "cell_type": "code",
   "execution_count": 102,
   "id": "a88463e2",
   "metadata": {
    "vscode": {
     "languageId": "python"
    }
   },
   "outputs": [
    {
     "name": "stdout",
     "output_type": "stream",
     "text": [
      "Model: \"transformer_8\"\n",
      "_________________________________________________________________\n",
      " Layer (type)                Output Shape              Param #   \n",
      "=================================================================\n",
      " encoder_8 (Encoder)         multiple                  2236928   \n",
      "                                                                 \n",
      " decoder_8 (Decoder)         multiple                  3292416   \n",
      "                                                                 \n",
      " dense_80 (Dense)            multiple                  129000    \n",
      "                                                                 \n",
      "=================================================================\n",
      "Total params: 5,658,344\n",
      "Trainable params: 5,658,344\n",
      "Non-trainable params: 0\n",
      "_________________________________________________________________\n"
     ]
    }
   ],
   "source": [
    "# 超参数\n",
    "num_layers = 2\n",
    "d_model = 128\n",
    "dff = 2048\n",
    "num_heads = 8\n",
    "dropout_rate = 0.2\n",
    "input_vocab = 1000  # 每个数字在[0,999]之间，997表示起点，998表示生成终点，999表示节点之间的分隔符\n",
    "output_vocab = 1000  # \n",
    "\n",
    "# 权重保存位置\n",
    "save_weight_path = \"./model_weight/demo_model_1\"\n",
    "save_path = \"./model/demo_model_1\"\n",
    "\n",
    "transformer = Transformer(\n",
    "    num_layers=num_layers,\n",
    "    d_model=d_model,\n",
    "    num_heads=num_heads,\n",
    "    dff=dff,\n",
    "    input_vocab=input_vocab,\n",
    "    output_vocab=output_vocab,\n",
    "    dropout_rate=dropout_rate)\n",
    "\n",
    "# 使用996作为填充，故考虑loss时不考虑996\n",
    "def masked_loss(label, pred):\n",
    "  mask = label != 996\n",
    "  loss_object = tf.keras.losses.SparseCategoricalCrossentropy(\n",
    "    from_logits=True, reduction='none')\n",
    "  loss = loss_object(label, pred)\n",
    "\n",
    "  mask = tf.cast(mask, dtype=loss.dtype)\n",
    "  loss *= mask\n",
    "\n",
    "  loss = tf.reduce_sum(loss)/tf.reduce_sum(mask)\n",
    "  return loss\n",
    "\n",
    "def masked_accuracy(label, pred):\n",
    "  pred = tf.argmax(pred, axis=2)\n",
    "  label = tf.cast(label, pred.dtype)\n",
    "  match = label == pred\n",
    "\n",
    "  mask = label != 996\n",
    "\n",
    "  match = match & mask\n",
    "\n",
    "  match = tf.cast(match, dtype=tf.float32)\n",
    "  mask = tf.cast(mask, dtype=tf.float32)\n",
    "  return tf.reduce_sum(match)/tf.reduce_sum(mask)\n",
    "\n",
    "# 优化器采用Adam，学习率自定义\n",
    "learning_rate = CustomSchedule(d_model)\n",
    "optimizer = tf.keras.optimizers.Adam(learning_rate, beta_1=0.9, beta_2=0.98,\n",
    "                                     epsilon=1e-9)\n",
    "transformer.compile(\n",
    "    loss=masked_loss,\n",
    "    optimizer=optimizer,\n",
    "    metrics=[masked_accuracy]\n",
    ")\n",
    "# 设置模型输入形状\n",
    "transformer((tf.keras.layers.Input(shape=(None,)),\n",
    "             tf.keras.layers.Input(shape=(None,))))\n",
    "# 网络概览\n",
    "transformer.summary()"
   ]
  },
  {
   "cell_type": "markdown",
   "id": "fae69974",
   "metadata": {},
   "source": [
    "## 3.加载已经训练的权重，方便继续训练"
   ]
  },
  {
   "cell_type": "code",
   "execution_count": 103,
   "id": "c87e42df",
   "metadata": {
    "vscode": {
     "languageId": "python"
    }
   },
   "outputs": [
    {
     "data": {
      "text/plain": [
       "<tensorflow.python.checkpoint.checkpoint.CheckpointLoadStatus at 0x13e43a160>"
      ]
     },
     "execution_count": 103,
     "metadata": {},
     "output_type": "execute_result"
    }
   ],
   "source": [
    "# 加载已训练权重\n",
    "transformer.load_weights(save_weight_path)"
   ]
  },
  {
   "cell_type": "markdown",
   "id": "7e276f7f",
   "metadata": {},
   "source": [
    "## 4.加载数据集训练网络"
   ]
  },
  {
   "cell_type": "code",
   "execution_count": 124,
   "id": "1cbadfa1",
   "metadata": {
    "vscode": {
     "languageId": "python"
    }
   },
   "outputs": [],
   "source": [
    "%run AI2Flutter_demo_data.py\n",
    "%run node_processor.py"
   ]
  },
  {
   "cell_type": "code",
   "execution_count": 65,
   "id": "d72bf980",
   "metadata": {
    "vscode": {
     "languageId": "python"
    }
   },
   "outputs": [],
   "source": [
    "%run AI2Flutter_demo_data.py\n",
    "# 数据规模\n",
    "train_seqs_num = 500\n",
    "validation_seqs_num = 50\n",
    "# 生成随机数据集\n",
    "input_data, output_data, output_label = demo_generate_data(train_seqs_num)\n",
    "vali_input_data, vali_output_data, vali_output_label = demo_generate_data(validation_seqs_num)\n",
    "\n",
    "# 训练集\n",
    "train_input = tf.data.Dataset.from_generator(\n",
    "    lambda: input_data, \n",
    "    output_signature=(\n",
    "        tf.TensorSpec(shape=(None,), dtype=tf.float32)))\n",
    "train_output = tf.data.Dataset.from_generator(\n",
    "    lambda: output_data, \n",
    "    output_signature=(\n",
    "        tf.TensorSpec(shape=(None,), dtype=tf.float32)))\n",
    "train_label = tf.data.Dataset.from_generator(\n",
    "    lambda: output_label, \n",
    "    output_signature=(\n",
    "        tf.TensorSpec(shape=(None,), dtype=tf.float32)))\n",
    "train_dataset = tf.data.Dataset.zip(((train_input, train_output), train_label))\n",
    "# batch设置\n",
    "train_dataset = train_dataset.padded_batch(1, padding_values=996.0)\n",
    "\n",
    "# 验证集\n",
    "vali_input = tf.data.Dataset.from_generator(\n",
    "    lambda: vali_input_data, \n",
    "    output_signature=(\n",
    "        tf.TensorSpec(shape=(None,), dtype=tf.float32)))\n",
    "vali_output = tf.data.Dataset.from_generator(\n",
    "    lambda: vali_output_data, \n",
    "    output_signature=(\n",
    "        tf.TensorSpec(shape=(None,), dtype=tf.float32)))\n",
    "vali_label = tf.data.Dataset.from_generator(\n",
    "    lambda: vali_output_label, \n",
    "    output_signature=(\n",
    "        tf.TensorSpec(shape=(None,), dtype=tf.float32)))\n",
    "vali_dataset = tf.data.Dataset.zip(((vali_input, vali_output), vali_label))\n",
    "vali_dataset = vali_dataset.padded_batch(1, padding_values=996.0)"
   ]
  },
  {
   "cell_type": "code",
   "execution_count": 66,
   "id": "6e83116a",
   "metadata": {
    "vscode": {
     "languageId": "python"
    }
   },
   "outputs": [
    {
     "name": "stdout",
     "output_type": "stream",
     "text": [
      "Epoch 1/10\n",
      "500/500 [==============================] - 7s 15ms/step - loss: 0.4145 - masked_accuracy: 0.9363 - val_loss: 0.1627 - val_masked_accuracy: 0.9737\n",
      "Epoch 2/10\n",
      "500/500 [==============================] - 7s 15ms/step - loss: 0.3861 - masked_accuracy: 0.9390 - val_loss: 0.0934 - val_masked_accuracy: 0.9870\n",
      "Epoch 3/10\n",
      "500/500 [==============================] - 7s 15ms/step - loss: 0.4011 - masked_accuracy: 0.9387 - val_loss: 0.1043 - val_masked_accuracy: 0.9856\n",
      "Epoch 4/10\n",
      "500/500 [==============================] - 7s 15ms/step - loss: 0.3341 - masked_accuracy: 0.9463 - val_loss: 0.1095 - val_masked_accuracy: 0.9870\n",
      "Epoch 5/10\n",
      "500/500 [==============================] - 7s 15ms/step - loss: 0.4267 - masked_accuracy: 0.9317 - val_loss: 0.0592 - val_masked_accuracy: 0.9924\n",
      "Epoch 6/10\n",
      "500/500 [==============================] - 7s 15ms/step - loss: 0.3506 - masked_accuracy: 0.9450 - val_loss: 0.0789 - val_masked_accuracy: 0.9872\n",
      "Epoch 7/10\n",
      "500/500 [==============================] - 7s 14ms/step - loss: 0.3332 - masked_accuracy: 0.9484 - val_loss: 0.2492 - val_masked_accuracy: 0.9667\n",
      "Epoch 8/10\n",
      "500/500 [==============================] - 7s 15ms/step - loss: 0.3200 - masked_accuracy: 0.9487 - val_loss: 0.1609 - val_masked_accuracy: 0.9770\n",
      "Epoch 9/10\n",
      "500/500 [==============================] - 7s 15ms/step - loss: 0.2577 - masked_accuracy: 0.9597 - val_loss: 0.1742 - val_masked_accuracy: 0.9776\n",
      "Epoch 10/10\n",
      "500/500 [==============================] - 7s 14ms/step - loss: 0.3007 - masked_accuracy: 0.9519 - val_loss: 0.0503 - val_masked_accuracy: 0.9903\n"
     ]
    },
    {
     "data": {
      "text/plain": [
       "<keras.callbacks.History at 0x7f106c16b760>"
      ]
     },
     "execution_count": 66,
     "metadata": {},
     "output_type": "execute_result"
    }
   ],
   "source": [
    "# 训练\n",
    "transformer.fit(\n",
    "    x=train_dataset,\n",
    "    epochs=10,\n",
    "    validation_data=vali_dataset\n",
    ")"
   ]
  },
  {
   "cell_type": "code",
   "execution_count": null,
   "id": "6fd42c02",
   "metadata": {
    "vscode": {
     "languageId": "python"
    }
   },
   "outputs": [],
   "source": [
    "# num_layers = 2\n",
    "# d_model = 128\n",
    "# dff = 512\n",
    "# num_heads = 8\n",
    "# dropout_rate = 0.1\n",
    "# input_node_dim = 24\n",
    "# target_node_dim = 24\n",
    "# Model: \"transformer_1\"\n",
    "# _________________________________________________________________\n",
    "#  Layer (type)                Output Shape              Param #   \n",
    "# =================================================================\n",
    "#  encoder_1 (Encoder)         multiple                  1322624   \n",
    "                                                                 \n",
    "#  decoder_1 (Decoder)         multiple                  2378112   \n",
    "                                                                 \n",
    "#  dense_29 (Dense)            multiple                  3096      \n",
    "                                                                 \n",
    "# =================================================================\n",
    "# Total params: 3,703,832\n",
    "# Trainable params: 3,703,832\n",
    "# Non-trainable params: 0\n",
    "# _________________________________________________________________\n",
    "# 1. 1000(16) 100轮 loss: 1100->255\n",
    "# 2. 1000(8) 100轮 loss: 281->233\n",
    "# 3. 1000(4) 100轮 loss: 277->206\n",
    "# 4. 2000(2) 100轮 loss: 272->244 在12-36个epoch降不下去，像是batch太少\n",
    "# 5. 1000(8) 100轮 loss: 265->191 再100轮 loss:190->146 再100轮 loss:147->119\n",
    "# 6. 1000(2) 10轮 loss: 304->239 又被打乱了\n",
    "# 7. 1000(16) 400轮 loss: 255->102 期间在100附近震荡很多次\n",
    "# 8. 100(4) 100轮 loss: 373->27\n",
    "# 9. 100(4) 100轮 loss: 485->36\n",
    "# 10. 100(4) 100轮 loss: 458->45\n",
    "# 11. 500(8) 100轮 loss: 438->117\n",
    "\n",
    "# 注意，transformer由于有填充，损失函数是不考虑这部分的。\n",
    "# 其次，序列通过均方来作为损失函数，进行回归是不是有问题，很难收敛，\n",
    "# 考虑到注意力机制是观察另一个向量，是不是应该用分类，而不是向量的回归，\n",
    "\n",
    "# 此外，我们要AI做到一是布局方式，二是节点裁剪，这里是不是不需要让AI映射每一个值？"
   ]
  },
  {
   "cell_type": "markdown",
   "id": "b6924a18",
   "metadata": {},
   "source": [
    "## 5.使用网络预测"
   ]
  },
  {
   "cell_type": "code",
   "execution_count": 104,
   "id": "4fac76eb",
   "metadata": {
    "vscode": {
     "languageId": "python"
    }
   },
   "outputs": [],
   "source": [
    "def d2c(schema, flutter=[], max_length=100):\n",
    "    '''\n",
    "    schema: 设计稿schema, 为一个一维向量\n",
    "    flutter: 实际Flutter节点输出，为一个一维向量，用于测试翻译的结果\n",
    "    \n",
    "    特殊数字：996填充，997开始，998结束，999节点分割符\n",
    "    '''\n",
    "    # 组织batch为1结构，作为网络输入输出\n",
    "    input1 = tf.constant([schema])\n",
    "    predict = [[997]]\n",
    "    for i in range(max_length):\n",
    "        p = transformer((input1, tf.constant(predict)), training=False)\n",
    "        p = p[:, -1:, :]\n",
    "        p_id = tf.argmax(p, axis=-1)[0].numpy().tolist()[0]\n",
    "        predict[0].append(p_id)\n",
    "        if (p_id == 998):\n",
    "            break\n",
    "    predict = predict[0][1:]\n",
    "    print(\"schema: \", schema)\n",
    "    if (len(flutter) > 0):\n",
    "        print(\"flutter length: \", len(flutter), \"value: \", flutter)\n",
    "    print(\"predict length: \", len(predict), \"value: \", predict)\n",
    "    if (len(flutter) > 0):\n",
    "        print(\"distance: \", [flutter[i] - predict[i] for i in range(min(len(flutter), len(predict)))])\n",
    "    return predict"
   ]
  },
  {
   "cell_type": "code",
   "execution_count": 105,
   "id": "a947e650",
   "metadata": {
    "vscode": {
     "languageId": "python"
    }
   },
   "outputs": [
    {
     "name": "stdout",
     "output_type": "stream",
     "text": [
      "schema:  [1, 0, 0, 67, 91, 26, 255, 0, 255, 0, 75, 71]\n",
      "flutter length:  11 value:  [2, 1, 0, 26, 255, 0, 255, 0, 75, 71, 998]\n",
      "predict length:  11 value:  [2, 1, 0, 26, 255, 0, 255, 0, 75, 71, 998]\n",
      "distance:  [0, 0, 0, 0, 0, 0, 0, 0, 0, 0, 0]\n"
     ]
    },
    {
     "data": {
      "text/plain": [
       "[2, 1, 0, 26, 255, 0, 255, 0, 75, 71, 998]"
      ]
     },
     "execution_count": 105,
     "metadata": {},
     "output_type": "execute_result"
    }
   ],
   "source": [
    "# 随机生成一个进行预测\n",
    "input1, input2, output = demo_generate_data(1)\n",
    "d2c(input1[0], output[0])"
   ]
  },
  {
   "cell_type": "code",
   "execution_count": 146,
   "id": "c543cf97",
   "metadata": {
    "vscode": {
     "languageId": "python"
    }
   },
   "outputs": [],
   "source": [
    "# 编码解码相关操作\n",
    "def encode_schema_node(node):\n",
    "    re = []\n",
    "    if (node[\"type\"] == \"text\"):\n",
    "        re.append(1)\n",
    "    re.extend([node[\"ax\"], node[\"ay\"], node[\"width\"], node[\"height\"]])\n",
    "    re.append(text_poll.index(node[\"text\"]))\n",
    "    re.extend(formatColorStrToInt(node[\"color\"]))\n",
    "    re.extend([node[\"size\"], node[\"line\"]])\n",
    "    return re\n",
    "\n",
    "def decode_flutter_node(vec):\n",
    "    # padding编码\n",
    "    re = {}\n",
    "    if (vec[0] == 1):\n",
    "        re[\"type\"] = \"Padding\"\n",
    "        re[\"id\"] = vec[1]\n",
    "        re[\"parentId\"] = vec[2]\n",
    "        re[\"padding\"] = str(vec[3]) + \", \" + str(vec[4]) + \", \" + str(vec[5]) + \", \"  + str(vec[6])\n",
    "    if (vec[0] == 2):\n",
    "        re[\"type\"] = \"TGText\"\n",
    "        re[\"id\"] = vec[1]\n",
    "        re[\"parentId\"] = vec[2]\n",
    "        re[\"text\"] = text_poll[vec[3]]\n",
    "        re[\"color\"] = formatColorIntToStr(vec[4:8])\n",
    "        re[\"size\"] = vec[8]\n",
    "        re[\"line\"] = vec[9]\n",
    "    return re\n",
    "\n",
    "def decode_flutter_nodes(vec):\n",
    "    # 去掉998\n",
    "    vec = vec[: -1]\n",
    "    # 前后填充\n",
    "    vec.insert(0, -1)\n",
    "    vec.append(-1)\n",
    "    split = [i for i in range(len(vec)) if vec[i] == 999]\n",
    "    split.insert(0, 0)\n",
    "    split.append(len(vec) - 1)\n",
    "    nodes = [vec[split[i-1]+1 : split[i]] for i in range(1, len(split))]\n",
    "    nodes[-1].append(vec[-1])\n",
    "    return [decode_flutter_node(node) for node in nodes]\n",
    "        \n",
    "def predict_flutter_nodes(schema_node):\n",
    "    re = decode_flutter_nodes(d2c(encode_schema_node(schema_node)))\n",
    "    print(\"\\n\\n*******\")\n",
    "    print(\"schema输入： \")\n",
    "    print(schema_node)\n",
    "    print(\"flutter预测：\")\n",
    "    for node in re:\n",
    "        print(node)\n",
    "    return re"
   ]
  },
  {
   "cell_type": "markdown",
   "id": "84abbc5c",
   "metadata": {},
   "source": [
    "## 5.1使用node到node翻译"
   ]
  },
  {
   "cell_type": "code",
   "execution_count": 154,
   "id": "ffa70598",
   "metadata": {
    "vscode": {
     "languageId": "python"
    }
   },
   "outputs": [
    {
     "name": "stdout",
     "output_type": "stream",
     "text": [
      "schema:  [1, 16, 16, 120, 52, 1, 119, 142, 0, 0, 24, 32]\n",
      "predict length:  19 value:  [1, 1, 0, 16, 16, 0, 0, 999, 2, 2, 1, 1, 119, 142, 0, 0, 24, 32, 998]\n",
      "\n",
      "\n",
      "*******\n",
      "schema输入： \n",
      "{'type': 'text', 'ax': 16, 'ay': 16, 'width': 120, 'height': 52, 'text': '英雄联盟手游', 'color': '778E0000', 'size': 24, 'line': 32}\n",
      "flutter预测：\n",
      "{'type': 'Padding', 'id': 1, 'parentId': 0, 'padding': '16, 16, 0, 0'}\n",
      "{'type': 'TGText', 'id': 2, 'parentId': 1, 'text': '英雄联盟手游', 'color': '778E0000', 'size': 24, 'line': 32}\n"
     ]
    }
   ],
   "source": [
    "text_poll = [\"你好\", \"英雄联盟手游\", \"hello\", \"ahdafwj\"]\n",
    "text_node = {\"type\":\"Text\",\n",
    "             \"ax\":16,\n",
    "             \"ay\":16,\n",
    "             \"width\":120,\n",
    "             \"height\":52,\n",
    "             \"text\": \"英雄联盟手游\",\n",
    "             \"color\":\"778E0000\",\n",
    "             \"size\":24,\n",
    "             \"line\":32}\n",
    "\n",
    "re = predict_flutter_nodes(text_node)"
   ]
  },
  {
   "cell_type": "markdown",
   "id": "69038bac",
   "metadata": {},
   "source": [
    "## 6.保存模型的权重，方便下一次训练"
   ]
  },
  {
   "cell_type": "code",
   "execution_count": 84,
   "id": "8ecefddb",
   "metadata": {
    "vscode": {
     "languageId": "python"
    }
   },
   "outputs": [],
   "source": [
    "#保存训练权重\n",
    "transformer.save_weights(save_weight_path)"
   ]
  },
  {
   "cell_type": "markdown",
   "id": "13ca566c",
   "metadata": {},
   "source": [
    "## 7.保存整个模型，方便迁移到其他地方"
   ]
  },
  {
   "cell_type": "code",
   "execution_count": 85,
   "id": "1a2a9326",
   "metadata": {
    "vscode": {
     "languageId": "python"
    }
   },
   "outputs": [
    {
     "name": "stderr",
     "output_type": "stream",
     "text": [
      "WARNING:absl:Found untraced functions such as positional_embedding_4_layer_call_fn, positional_embedding_4_layer_call_and_return_conditional_losses, dropout_18_layer_call_fn, dropout_18_layer_call_and_return_conditional_losses, positional_embedding_5_layer_call_fn while saving (showing 5 of 164). These functions will not be directly callable after loading.\n"
     ]
    },
    {
     "name": "stdout",
     "output_type": "stream",
     "text": [
      "INFO:tensorflow:Assets written to: ./model/model_1/assets\n"
     ]
    },
    {
     "name": "stderr",
     "output_type": "stream",
     "text": [
      "INFO:tensorflow:Assets written to: ./model/model_1/assets\n"
     ]
    }
   ],
   "source": [
    "# 直接加载模型\n",
    "# transformer = tf.saved_model.load(\"model2\")\n",
    "# 保存模型\n",
    "tf.saved_model.save(transformer, save_path)"
   ]
  },
  {
   "cell_type": "markdown",
   "id": "08d4e6a9",
   "metadata": {},
   "source": [
    "## 测试"
   ]
  },
  {
   "cell_type": "code",
   "execution_count": 1,
   "id": "d203a5b5",
   "metadata": {
    "vscode": {
     "languageId": "python"
    }
   },
   "outputs": [
    {
     "name": "stderr",
     "output_type": "stream",
     "text": [
      "2023-05-05 17:46:31.906622: I tensorflow/core/platform/cpu_feature_guard.cc:193] This TensorFlow binary is optimized with oneAPI Deep Neural Network Library (oneDNN) to use the following CPU instructions in performance-critical operations:  AVX2 FMA\n",
      "To enable them in other operations, rebuild TensorFlow with the appropriate compiler flags.\n"
     ]
    }
   ],
   "source": [
    "%run AI2Flutter_demo_data.py"
   ]
  },
  {
   "cell_type": "code",
   "execution_count": 3,
   "id": "0d76eb8e",
   "metadata": {
    "vscode": {
     "languageId": "python"
    }
   },
   "outputs": [
    {
     "name": "stdout",
     "output_type": "stream",
     "text": [
      "[1, 16, 16, 120, 52, 1, 119, 142, 0, 0, 24, 32]\n",
      "{'type': 'Text', 'ax': 16, 'ay': 16, 'width': 120, 'height': 52, 'text': '英雄联盟手游', 'color': '778E0000', 'size': 24, 'line': 32}\n",
      "[2, 0, 0, 343, 120, 255, 142, 142, 147, 12, 12, 12, 12, 0]\n",
      "{'type': 'Layer', 'ax': 0, 'ay': 0, 'width': 343, 'height': 120, 'color': 'FF8E8E93', 'radius': '12,12,12,12', 'imgSrc': ''}\n",
      "[3, 150, 16, 100, 120, 2]\n",
      "{'type': 'Image', 'ax': 150, 'ay': 16, 'width': 100, 'height': 120, 'imgSrc': 'xinyue'}\n"
     ]
    }
   ],
   "source": [
    "text_pool = ['', '英雄联盟手游', '我爱Python']\n",
    "imgSrc_pool = ['', 'baidu', 'xinyue']\n",
    "s1 = {'type': 'Text', 'ax': 16, 'ay': 16, 'width': 120, 'height': 52, 'text': '英雄联盟手游', 'color': '778E0000', 'size': 24, 'line': 32}\n",
    "s2 = {'type': 'Layer', 'ax': 0, 'ay': 0, 'width': 343, 'height': 120, 'color': 'FF8E8E93', 'radius': '12,12,12,12', 'imgSrc': ''}\n",
    "s3 = {'type': 'Image', 'ax': 150, 'ay': 16, 'width': 100, 'height': 120, 'imgSrc': 'xinyue'}\n",
    "nodes = [s1, s2, s3]\n",
    "\n",
    "for node in nodes:\n",
    "    en = encode_node(node, \"Schema\", text_pool, imgSrc_pool)\n",
    "    print(en)\n",
    "    de = decode_node(en, \"Schema\", text_pool, imgSrc_pool)\n",
    "    print(de)"
   ]
  },
  {
   "cell_type": "code",
   "execution_count": 24,
   "id": "9232bde7",
   "metadata": {
    "vscode": {
     "languageId": "python"
    }
   },
   "outputs": [
    {
     "data": {
      "text/plain": [
       "{'type': 'TGRadiusImage',\n",
       " 'id': 1,\n",
       " 'parentId': 0,\n",
       " 'width': 29,\n",
       " 'height': 353,\n",
       " 'radius': '2,6,13,10',\n",
       " 'imgSrc': 'https://weini.com'}"
      ]
     },
     "execution_count": 24,
     "metadata": {},
     "output_type": "execute_result"
    }
   ],
   "source": [
    "decode_node(generate_image_data(1)[2][0][:-1], \"Flutter\", text_pool, imgSrc_pool)"
   ]
  },
  {
   "cell_type": "code",
   "execution_count": 3,
   "id": "243b0c2a",
   "metadata": {
    "vscode": {
     "languageId": "python"
    }
   },
   "outputs": [
    {
     "data": {
      "text/plain": [
       "[7, 1, 0, 48, 187, 179, 121, 33]"
      ]
     },
     "execution_count": 3,
     "metadata": {},
     "output_type": "execute_result"
    }
   ],
   "source": [
    "generate_tgButton_data(1)[2][0][:-1]"
   ]
  }
 ],
 "metadata": {
  "kernelspec": {
   "display_name": "venv_workspace_kernel",
   "language": "python",
   "name": "venv_workspace"
  }
 },
 "nbformat": 4,
 "nbformat_minor": 5
}
